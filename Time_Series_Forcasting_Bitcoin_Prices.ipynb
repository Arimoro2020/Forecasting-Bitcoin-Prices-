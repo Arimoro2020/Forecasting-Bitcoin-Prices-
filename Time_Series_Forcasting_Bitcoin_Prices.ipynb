{
  "nbformat": 4,
  "nbformat_minor": 0,
  "metadata": {
    "colab": {
      "name": "Time_Series/Forcasting_Bitcoin Prices.ipynb",
      "provenance": [],
      "collapsed_sections": [],
      "authorship_tag": "ABX9TyOu46zx1c47hkQWeMfrin4q",
      "include_colab_link": true
    },
    "kernelspec": {
      "name": "python3",
      "display_name": "Python 3"
    },
    "language_info": {
      "name": "python"
    }
  },
  "cells": [
    {
      "cell_type": "markdown",
      "metadata": {
        "id": "view-in-github",
        "colab_type": "text"
      },
      "source": [
        "<a href=\"https://colab.research.google.com/github/Arimoro2020/Forecasting-Bitcoin-Prices-/blob/main/Time_Series_Forcasting_Bitcoin_Prices.ipynb\" target=\"_parent\"><img src=\"https://colab.research.google.com/assets/colab-badge.svg\" alt=\"Open In Colab\"/></a>"
      ]
    },
    {
      "cell_type": "markdown",
      "metadata": {
        "id": "vTcGRHJG6g8Y"
      },
      "source": [
        "**Import Libraries**"
      ]
    },
    {
      "cell_type": "code",
      "metadata": {
        "id": "BciDnjl7iXZ_"
      },
      "source": [
        "\n",
        "import numpy as np\n",
        "import pandas as pd\n",
        "from sklearn.preprocessing import MinMaxScaler\n",
        "from sklearn.metrics import mean_squared_error\n",
        "from math import sqrt"
      ],
      "execution_count": 1,
      "outputs": []
    },
    {
      "cell_type": "code",
      "metadata": {
        "colab": {
          "base_uri": "https://localhost:8080/"
        },
        "id": "2xSM6s7o204B",
        "outputId": "1dba4412-bd17-40e2-dcd9-02ac813c032d"
      },
      "source": [
        "pip install statsmodels --upgrade"
      ],
      "execution_count": 2,
      "outputs": [
        {
          "output_type": "stream",
          "name": "stdout",
          "text": [
            "Requirement already satisfied: statsmodels in /usr/local/lib/python3.7/dist-packages (0.13.1)\n",
            "Requirement already satisfied: numpy>=1.17 in /usr/local/lib/python3.7/dist-packages (from statsmodels) (1.19.5)\n",
            "Requirement already satisfied: patsy>=0.5.2 in /usr/local/lib/python3.7/dist-packages (from statsmodels) (0.5.2)\n",
            "Requirement already satisfied: pandas>=0.25 in /usr/local/lib/python3.7/dist-packages (from statsmodels) (1.1.5)\n",
            "Requirement already satisfied: scipy>=1.3 in /usr/local/lib/python3.7/dist-packages (from statsmodels) (1.4.1)\n",
            "Requirement already satisfied: pytz>=2017.2 in /usr/local/lib/python3.7/dist-packages (from pandas>=0.25->statsmodels) (2018.9)\n",
            "Requirement already satisfied: python-dateutil>=2.7.3 in /usr/local/lib/python3.7/dist-packages (from pandas>=0.25->statsmodels) (2.8.2)\n",
            "Requirement already satisfied: six in /usr/local/lib/python3.7/dist-packages (from patsy>=0.5.2->statsmodels) (1.15.0)\n"
          ]
        }
      ]
    },
    {
      "cell_type": "code",
      "metadata": {
        "id": "dHIQJCzk_i50"
      },
      "source": [
        "from statsmodels.tsa.ar_model import AutoReg"
      ],
      "execution_count": 3,
      "outputs": []
    },
    {
      "cell_type": "code",
      "metadata": {
        "id": "_Fu_6sRxjc3f"
      },
      "source": [
        "import matplotlib.pyplot as plt\n",
        "%matplotlib inline"
      ],
      "execution_count": 4,
      "outputs": []
    },
    {
      "cell_type": "markdown",
      "metadata": {
        "id": "9fauDu9966Kz"
      },
      "source": [
        "**Load Drive**"
      ]
    },
    {
      "cell_type": "code",
      "metadata": {
        "colab": {
          "base_uri": "https://localhost:8080/"
        },
        "id": "SX607Sapircc",
        "outputId": "fb02d75c-f749-4b05-fa28-73542a8640b4"
      },
      "source": [
        "from google.colab import drive\n",
        "drive.mount('/content/gdrive')"
      ],
      "execution_count": 5,
      "outputs": [
        {
          "output_type": "stream",
          "name": "stdout",
          "text": [
            "Mounted at /content/gdrive\n"
          ]
        }
      ]
    },
    {
      "cell_type": "markdown",
      "metadata": {
        "id": "qolD8dYs7FjO"
      },
      "source": [
        "**Read Data file into a Dataframe**"
      ]
    },
    {
      "cell_type": "code",
      "metadata": {
        "id": "A9-seJQkitOf"
      },
      "source": [
        "df = pd.read_csv('/content/gdrive/MyDrive/Time series Transfer Learning Sequence models Image/bitstampUSD_1-min_data_2012-01-01_to_2021-03-31.csv')"
      ],
      "execution_count": 6,
      "outputs": []
    },
    {
      "cell_type": "markdown",
      "metadata": {
        "id": "2QM6tEQA7yGl"
      },
      "source": [
        "**Get Data Information**"
      ]
    },
    {
      "cell_type": "code",
      "metadata": {
        "colab": {
          "base_uri": "https://localhost:8080/"
        },
        "id": "bLQYqUy5itUN",
        "outputId": "f01c1102-47ea-465a-d741-771466e141b9"
      },
      "source": [
        "df.info()"
      ],
      "execution_count": 7,
      "outputs": [
        {
          "output_type": "stream",
          "name": "stdout",
          "text": [
            "<class 'pandas.core.frame.DataFrame'>\n",
            "RangeIndex: 4857377 entries, 0 to 4857376\n",
            "Data columns (total 8 columns):\n",
            " #   Column             Dtype  \n",
            "---  ------             -----  \n",
            " 0   Timestamp          int64  \n",
            " 1   Open               float64\n",
            " 2   High               float64\n",
            " 3   Low                float64\n",
            " 4   Close              float64\n",
            " 5   Volume_(BTC)       float64\n",
            " 6   Volume_(Currency)  float64\n",
            " 7   Weighted_Price     float64\n",
            "dtypes: float64(7), int64(1)\n",
            "memory usage: 296.5 MB\n"
          ]
        }
      ]
    },
    {
      "cell_type": "code",
      "metadata": {
        "colab": {
          "base_uri": "https://localhost:8080/",
          "height": 203
        },
        "id": "lZ1jqCcgitYp",
        "outputId": "7ce66be7-ff7c-497d-9bf2-e876246cde8b"
      },
      "source": [
        "df.head()"
      ],
      "execution_count": 8,
      "outputs": [
        {
          "output_type": "execute_result",
          "data": {
            "text/html": [
              "<div>\n",
              "<style scoped>\n",
              "    .dataframe tbody tr th:only-of-type {\n",
              "        vertical-align: middle;\n",
              "    }\n",
              "\n",
              "    .dataframe tbody tr th {\n",
              "        vertical-align: top;\n",
              "    }\n",
              "\n",
              "    .dataframe thead th {\n",
              "        text-align: right;\n",
              "    }\n",
              "</style>\n",
              "<table border=\"1\" class=\"dataframe\">\n",
              "  <thead>\n",
              "    <tr style=\"text-align: right;\">\n",
              "      <th></th>\n",
              "      <th>Timestamp</th>\n",
              "      <th>Open</th>\n",
              "      <th>High</th>\n",
              "      <th>Low</th>\n",
              "      <th>Close</th>\n",
              "      <th>Volume_(BTC)</th>\n",
              "      <th>Volume_(Currency)</th>\n",
              "      <th>Weighted_Price</th>\n",
              "    </tr>\n",
              "  </thead>\n",
              "  <tbody>\n",
              "    <tr>\n",
              "      <th>0</th>\n",
              "      <td>1325317920</td>\n",
              "      <td>4.39</td>\n",
              "      <td>4.39</td>\n",
              "      <td>4.39</td>\n",
              "      <td>4.39</td>\n",
              "      <td>0.455581</td>\n",
              "      <td>2.0</td>\n",
              "      <td>4.39</td>\n",
              "    </tr>\n",
              "    <tr>\n",
              "      <th>1</th>\n",
              "      <td>1325317980</td>\n",
              "      <td>NaN</td>\n",
              "      <td>NaN</td>\n",
              "      <td>NaN</td>\n",
              "      <td>NaN</td>\n",
              "      <td>NaN</td>\n",
              "      <td>NaN</td>\n",
              "      <td>NaN</td>\n",
              "    </tr>\n",
              "    <tr>\n",
              "      <th>2</th>\n",
              "      <td>1325318040</td>\n",
              "      <td>NaN</td>\n",
              "      <td>NaN</td>\n",
              "      <td>NaN</td>\n",
              "      <td>NaN</td>\n",
              "      <td>NaN</td>\n",
              "      <td>NaN</td>\n",
              "      <td>NaN</td>\n",
              "    </tr>\n",
              "    <tr>\n",
              "      <th>3</th>\n",
              "      <td>1325318100</td>\n",
              "      <td>NaN</td>\n",
              "      <td>NaN</td>\n",
              "      <td>NaN</td>\n",
              "      <td>NaN</td>\n",
              "      <td>NaN</td>\n",
              "      <td>NaN</td>\n",
              "      <td>NaN</td>\n",
              "    </tr>\n",
              "    <tr>\n",
              "      <th>4</th>\n",
              "      <td>1325318160</td>\n",
              "      <td>NaN</td>\n",
              "      <td>NaN</td>\n",
              "      <td>NaN</td>\n",
              "      <td>NaN</td>\n",
              "      <td>NaN</td>\n",
              "      <td>NaN</td>\n",
              "      <td>NaN</td>\n",
              "    </tr>\n",
              "  </tbody>\n",
              "</table>\n",
              "</div>"
            ],
            "text/plain": [
              "    Timestamp  Open  High  ...  Volume_(BTC)  Volume_(Currency)  Weighted_Price\n",
              "0  1325317920  4.39  4.39  ...      0.455581                2.0            4.39\n",
              "1  1325317980   NaN   NaN  ...           NaN                NaN             NaN\n",
              "2  1325318040   NaN   NaN  ...           NaN                NaN             NaN\n",
              "3  1325318100   NaN   NaN  ...           NaN                NaN             NaN\n",
              "4  1325318160   NaN   NaN  ...           NaN                NaN             NaN\n",
              "\n",
              "[5 rows x 8 columns]"
            ]
          },
          "metadata": {},
          "execution_count": 8
        }
      ]
    },
    {
      "cell_type": "markdown",
      "metadata": {
        "id": "2JQwmdDp8Cx9"
      },
      "source": [
        "**Create new Dataframe with Opening price and Timestamp**"
      ]
    },
    {
      "cell_type": "code",
      "metadata": {
        "id": "q8Q6jcyPitcy",
        "colab": {
          "base_uri": "https://localhost:8080/"
        },
        "outputId": "6f19f434-2eb7-4d10-e74a-57dee5aafce1"
      },
      "source": [
        "df = df[['Timestamp', 'Open']]\n",
        "df['DateTime'] = pd.to_datetime(df['Timestamp'], unit='s')"
      ],
      "execution_count": 9,
      "outputs": [
        {
          "output_type": "stream",
          "name": "stderr",
          "text": [
            "/usr/local/lib/python3.7/dist-packages/ipykernel_launcher.py:2: SettingWithCopyWarning: \n",
            "A value is trying to be set on a copy of a slice from a DataFrame.\n",
            "Try using .loc[row_indexer,col_indexer] = value instead\n",
            "\n",
            "See the caveats in the documentation: https://pandas.pydata.org/pandas-docs/stable/user_guide/indexing.html#returning-a-view-versus-a-copy\n",
            "  \n"
          ]
        }
      ]
    },
    {
      "cell_type": "code",
      "metadata": {
        "colab": {
          "base_uri": "https://localhost:8080/",
          "height": 203
        },
        "id": "Y19DInsCitjp",
        "outputId": "71b4a96f-547c-4bcd-f37f-954d9970fb73"
      },
      "source": [
        "df.head()"
      ],
      "execution_count": 10,
      "outputs": [
        {
          "output_type": "execute_result",
          "data": {
            "text/html": [
              "<div>\n",
              "<style scoped>\n",
              "    .dataframe tbody tr th:only-of-type {\n",
              "        vertical-align: middle;\n",
              "    }\n",
              "\n",
              "    .dataframe tbody tr th {\n",
              "        vertical-align: top;\n",
              "    }\n",
              "\n",
              "    .dataframe thead th {\n",
              "        text-align: right;\n",
              "    }\n",
              "</style>\n",
              "<table border=\"1\" class=\"dataframe\">\n",
              "  <thead>\n",
              "    <tr style=\"text-align: right;\">\n",
              "      <th></th>\n",
              "      <th>Timestamp</th>\n",
              "      <th>Open</th>\n",
              "      <th>DateTime</th>\n",
              "    </tr>\n",
              "  </thead>\n",
              "  <tbody>\n",
              "    <tr>\n",
              "      <th>0</th>\n",
              "      <td>1325317920</td>\n",
              "      <td>4.39</td>\n",
              "      <td>2011-12-31 07:52:00</td>\n",
              "    </tr>\n",
              "    <tr>\n",
              "      <th>1</th>\n",
              "      <td>1325317980</td>\n",
              "      <td>NaN</td>\n",
              "      <td>2011-12-31 07:53:00</td>\n",
              "    </tr>\n",
              "    <tr>\n",
              "      <th>2</th>\n",
              "      <td>1325318040</td>\n",
              "      <td>NaN</td>\n",
              "      <td>2011-12-31 07:54:00</td>\n",
              "    </tr>\n",
              "    <tr>\n",
              "      <th>3</th>\n",
              "      <td>1325318100</td>\n",
              "      <td>NaN</td>\n",
              "      <td>2011-12-31 07:55:00</td>\n",
              "    </tr>\n",
              "    <tr>\n",
              "      <th>4</th>\n",
              "      <td>1325318160</td>\n",
              "      <td>NaN</td>\n",
              "      <td>2011-12-31 07:56:00</td>\n",
              "    </tr>\n",
              "  </tbody>\n",
              "</table>\n",
              "</div>"
            ],
            "text/plain": [
              "    Timestamp  Open            DateTime\n",
              "0  1325317920  4.39 2011-12-31 07:52:00\n",
              "1  1325317980   NaN 2011-12-31 07:53:00\n",
              "2  1325318040   NaN 2011-12-31 07:54:00\n",
              "3  1325318100   NaN 2011-12-31 07:55:00\n",
              "4  1325318160   NaN 2011-12-31 07:56:00"
            ]
          },
          "metadata": {},
          "execution_count": 10
        }
      ]
    },
    {
      "cell_type": "markdown",
      "metadata": {
        "id": "0QBvYWlS8k3O"
      },
      "source": [
        "**Drop all rows with Null values**"
      ]
    },
    {
      "cell_type": "code",
      "metadata": {
        "colab": {
          "base_uri": "https://localhost:8080/",
          "height": 203
        },
        "id": "SWtZ18Z9itnf",
        "outputId": "b30a7dc2-f962-4ee0-9ba7-c0adc2514300"
      },
      "source": [
        "df.dropna(axis=0, inplace=True)\n",
        "df.head()"
      ],
      "execution_count": 11,
      "outputs": [
        {
          "output_type": "execute_result",
          "data": {
            "text/html": [
              "<div>\n",
              "<style scoped>\n",
              "    .dataframe tbody tr th:only-of-type {\n",
              "        vertical-align: middle;\n",
              "    }\n",
              "\n",
              "    .dataframe tbody tr th {\n",
              "        vertical-align: top;\n",
              "    }\n",
              "\n",
              "    .dataframe thead th {\n",
              "        text-align: right;\n",
              "    }\n",
              "</style>\n",
              "<table border=\"1\" class=\"dataframe\">\n",
              "  <thead>\n",
              "    <tr style=\"text-align: right;\">\n",
              "      <th></th>\n",
              "      <th>Timestamp</th>\n",
              "      <th>Open</th>\n",
              "      <th>DateTime</th>\n",
              "    </tr>\n",
              "  </thead>\n",
              "  <tbody>\n",
              "    <tr>\n",
              "      <th>0</th>\n",
              "      <td>1325317920</td>\n",
              "      <td>4.39</td>\n",
              "      <td>2011-12-31 07:52:00</td>\n",
              "    </tr>\n",
              "    <tr>\n",
              "      <th>478</th>\n",
              "      <td>1325346600</td>\n",
              "      <td>4.39</td>\n",
              "      <td>2011-12-31 15:50:00</td>\n",
              "    </tr>\n",
              "    <tr>\n",
              "      <th>547</th>\n",
              "      <td>1325350740</td>\n",
              "      <td>4.50</td>\n",
              "      <td>2011-12-31 16:59:00</td>\n",
              "    </tr>\n",
              "    <tr>\n",
              "      <th>548</th>\n",
              "      <td>1325350800</td>\n",
              "      <td>4.58</td>\n",
              "      <td>2011-12-31 17:00:00</td>\n",
              "    </tr>\n",
              "    <tr>\n",
              "      <th>1224</th>\n",
              "      <td>1325391360</td>\n",
              "      <td>4.58</td>\n",
              "      <td>2012-01-01 04:16:00</td>\n",
              "    </tr>\n",
              "  </tbody>\n",
              "</table>\n",
              "</div>"
            ],
            "text/plain": [
              "       Timestamp  Open            DateTime\n",
              "0     1325317920  4.39 2011-12-31 07:52:00\n",
              "478   1325346600  4.39 2011-12-31 15:50:00\n",
              "547   1325350740  4.50 2011-12-31 16:59:00\n",
              "548   1325350800  4.58 2011-12-31 17:00:00\n",
              "1224  1325391360  4.58 2012-01-01 04:16:00"
            ]
          },
          "metadata": {},
          "execution_count": 11
        }
      ]
    },
    {
      "cell_type": "code",
      "metadata": {
        "colab": {
          "base_uri": "https://localhost:8080/",
          "height": 447
        },
        "id": "iXRLOrPyitrZ",
        "outputId": "6177a38f-2b3c-4cef-8673-bc164bd78a67"
      },
      "source": [
        "df.set_index(['DateTime'])"
      ],
      "execution_count": 12,
      "outputs": [
        {
          "output_type": "execute_result",
          "data": {
            "text/html": [
              "<div>\n",
              "<style scoped>\n",
              "    .dataframe tbody tr th:only-of-type {\n",
              "        vertical-align: middle;\n",
              "    }\n",
              "\n",
              "    .dataframe tbody tr th {\n",
              "        vertical-align: top;\n",
              "    }\n",
              "\n",
              "    .dataframe thead th {\n",
              "        text-align: right;\n",
              "    }\n",
              "</style>\n",
              "<table border=\"1\" class=\"dataframe\">\n",
              "  <thead>\n",
              "    <tr style=\"text-align: right;\">\n",
              "      <th></th>\n",
              "      <th>Timestamp</th>\n",
              "      <th>Open</th>\n",
              "    </tr>\n",
              "    <tr>\n",
              "      <th>DateTime</th>\n",
              "      <th></th>\n",
              "      <th></th>\n",
              "    </tr>\n",
              "  </thead>\n",
              "  <tbody>\n",
              "    <tr>\n",
              "      <th>2011-12-31 07:52:00</th>\n",
              "      <td>1325317920</td>\n",
              "      <td>4.39</td>\n",
              "    </tr>\n",
              "    <tr>\n",
              "      <th>2011-12-31 15:50:00</th>\n",
              "      <td>1325346600</td>\n",
              "      <td>4.39</td>\n",
              "    </tr>\n",
              "    <tr>\n",
              "      <th>2011-12-31 16:59:00</th>\n",
              "      <td>1325350740</td>\n",
              "      <td>4.50</td>\n",
              "    </tr>\n",
              "    <tr>\n",
              "      <th>2011-12-31 17:00:00</th>\n",
              "      <td>1325350800</td>\n",
              "      <td>4.58</td>\n",
              "    </tr>\n",
              "    <tr>\n",
              "      <th>2012-01-01 04:16:00</th>\n",
              "      <td>1325391360</td>\n",
              "      <td>4.58</td>\n",
              "    </tr>\n",
              "    <tr>\n",
              "      <th>...</th>\n",
              "      <td>...</td>\n",
              "      <td>...</td>\n",
              "    </tr>\n",
              "    <tr>\n",
              "      <th>2021-03-30 23:56:00</th>\n",
              "      <td>1617148560</td>\n",
              "      <td>58714.31</td>\n",
              "    </tr>\n",
              "    <tr>\n",
              "      <th>2021-03-30 23:57:00</th>\n",
              "      <td>1617148620</td>\n",
              "      <td>58683.97</td>\n",
              "    </tr>\n",
              "    <tr>\n",
              "      <th>2021-03-30 23:58:00</th>\n",
              "      <td>1617148680</td>\n",
              "      <td>58693.43</td>\n",
              "    </tr>\n",
              "    <tr>\n",
              "      <th>2021-03-30 23:59:00</th>\n",
              "      <td>1617148740</td>\n",
              "      <td>58742.18</td>\n",
              "    </tr>\n",
              "    <tr>\n",
              "      <th>2021-03-31 00:00:00</th>\n",
              "      <td>1617148800</td>\n",
              "      <td>58767.75</td>\n",
              "    </tr>\n",
              "  </tbody>\n",
              "</table>\n",
              "<p>3613769 rows × 2 columns</p>\n",
              "</div>"
            ],
            "text/plain": [
              "                      Timestamp      Open\n",
              "DateTime                                 \n",
              "2011-12-31 07:52:00  1325317920      4.39\n",
              "2011-12-31 15:50:00  1325346600      4.39\n",
              "2011-12-31 16:59:00  1325350740      4.50\n",
              "2011-12-31 17:00:00  1325350800      4.58\n",
              "2012-01-01 04:16:00  1325391360      4.58\n",
              "...                         ...       ...\n",
              "2021-03-30 23:56:00  1617148560  58714.31\n",
              "2021-03-30 23:57:00  1617148620  58683.97\n",
              "2021-03-30 23:58:00  1617148680  58693.43\n",
              "2021-03-30 23:59:00  1617148740  58742.18\n",
              "2021-03-31 00:00:00  1617148800  58767.75\n",
              "\n",
              "[3613769 rows x 2 columns]"
            ]
          },
          "metadata": {},
          "execution_count": 12
        }
      ]
    },
    {
      "cell_type": "markdown",
      "metadata": {
        "id": "MQ15hq718-aK"
      },
      "source": [
        "**Normalize Open prices by scaling to range 0 - 1**"
      ]
    },
    {
      "cell_type": "code",
      "metadata": {
        "id": "RsbkXflnituy"
      },
      "source": [
        "sc = MinMaxScaler(feature_range=(0,1))\n",
        "df['Open_scaled'] = (lambda x: sc.fit_transform(x))(df.Open.values.reshape(-1,1))"
      ],
      "execution_count": 13,
      "outputs": []
    },
    {
      "cell_type": "code",
      "metadata": {
        "colab": {
          "base_uri": "https://localhost:8080/",
          "height": 203
        },
        "id": "BgJ6UAfKjR91",
        "outputId": "169d4907-6c8f-4da6-ec32-f84fd18055de"
      },
      "source": [
        "df.head()\n"
      ],
      "execution_count": 14,
      "outputs": [
        {
          "output_type": "execute_result",
          "data": {
            "text/html": [
              "<div>\n",
              "<style scoped>\n",
              "    .dataframe tbody tr th:only-of-type {\n",
              "        vertical-align: middle;\n",
              "    }\n",
              "\n",
              "    .dataframe tbody tr th {\n",
              "        vertical-align: top;\n",
              "    }\n",
              "\n",
              "    .dataframe thead th {\n",
              "        text-align: right;\n",
              "    }\n",
              "</style>\n",
              "<table border=\"1\" class=\"dataframe\">\n",
              "  <thead>\n",
              "    <tr style=\"text-align: right;\">\n",
              "      <th></th>\n",
              "      <th>Timestamp</th>\n",
              "      <th>Open</th>\n",
              "      <th>DateTime</th>\n",
              "      <th>Open_scaled</th>\n",
              "    </tr>\n",
              "  </thead>\n",
              "  <tbody>\n",
              "    <tr>\n",
              "      <th>0</th>\n",
              "      <td>1325317920</td>\n",
              "      <td>4.39</td>\n",
              "      <td>2011-12-31 07:52:00</td>\n",
              "      <td>0.000010</td>\n",
              "    </tr>\n",
              "    <tr>\n",
              "      <th>478</th>\n",
              "      <td>1325346600</td>\n",
              "      <td>4.39</td>\n",
              "      <td>2011-12-31 15:50:00</td>\n",
              "      <td>0.000010</td>\n",
              "    </tr>\n",
              "    <tr>\n",
              "      <th>547</th>\n",
              "      <td>1325350740</td>\n",
              "      <td>4.50</td>\n",
              "      <td>2011-12-31 16:59:00</td>\n",
              "      <td>0.000011</td>\n",
              "    </tr>\n",
              "    <tr>\n",
              "      <th>548</th>\n",
              "      <td>1325350800</td>\n",
              "      <td>4.58</td>\n",
              "      <td>2011-12-31 17:00:00</td>\n",
              "      <td>0.000013</td>\n",
              "    </tr>\n",
              "    <tr>\n",
              "      <th>1224</th>\n",
              "      <td>1325391360</td>\n",
              "      <td>4.58</td>\n",
              "      <td>2012-01-01 04:16:00</td>\n",
              "      <td>0.000013</td>\n",
              "    </tr>\n",
              "  </tbody>\n",
              "</table>\n",
              "</div>"
            ],
            "text/plain": [
              "       Timestamp  Open            DateTime  Open_scaled\n",
              "0     1325317920  4.39 2011-12-31 07:52:00     0.000010\n",
              "478   1325346600  4.39 2011-12-31 15:50:00     0.000010\n",
              "547   1325350740  4.50 2011-12-31 16:59:00     0.000011\n",
              "548   1325350800  4.58 2011-12-31 17:00:00     0.000013\n",
              "1224  1325391360  4.58 2012-01-01 04:16:00     0.000013"
            ]
          },
          "metadata": {},
          "execution_count": 14
        }
      ]
    },
    {
      "cell_type": "markdown",
      "metadata": {
        "id": "WI_9dQumCE7b"
      },
      "source": [
        "**Set Index to DateTime for resampling dataframe**"
      ]
    },
    {
      "cell_type": "code",
      "metadata": {
        "id": "w-CJh3HPjSa9",
        "colab": {
          "base_uri": "https://localhost:8080/",
          "height": 447
        },
        "outputId": "97001fcc-43d9-4124-c3a5-34ef7169c09c"
      },
      "source": [
        "time_df = df.set_index(['DateTime'])\n",
        "time_df.drop(columns=['Timestamp','Open'], inplace=True)\n",
        "time_df"
      ],
      "execution_count": 15,
      "outputs": [
        {
          "output_type": "execute_result",
          "data": {
            "text/html": [
              "<div>\n",
              "<style scoped>\n",
              "    .dataframe tbody tr th:only-of-type {\n",
              "        vertical-align: middle;\n",
              "    }\n",
              "\n",
              "    .dataframe tbody tr th {\n",
              "        vertical-align: top;\n",
              "    }\n",
              "\n",
              "    .dataframe thead th {\n",
              "        text-align: right;\n",
              "    }\n",
              "</style>\n",
              "<table border=\"1\" class=\"dataframe\">\n",
              "  <thead>\n",
              "    <tr style=\"text-align: right;\">\n",
              "      <th></th>\n",
              "      <th>Open_scaled</th>\n",
              "    </tr>\n",
              "    <tr>\n",
              "      <th>DateTime</th>\n",
              "      <th></th>\n",
              "    </tr>\n",
              "  </thead>\n",
              "  <tbody>\n",
              "    <tr>\n",
              "      <th>2011-12-31 07:52:00</th>\n",
              "      <td>0.000010</td>\n",
              "    </tr>\n",
              "    <tr>\n",
              "      <th>2011-12-31 15:50:00</th>\n",
              "      <td>0.000010</td>\n",
              "    </tr>\n",
              "    <tr>\n",
              "      <th>2011-12-31 16:59:00</th>\n",
              "      <td>0.000011</td>\n",
              "    </tr>\n",
              "    <tr>\n",
              "      <th>2011-12-31 17:00:00</th>\n",
              "      <td>0.000013</td>\n",
              "    </tr>\n",
              "    <tr>\n",
              "      <th>2012-01-01 04:16:00</th>\n",
              "      <td>0.000013</td>\n",
              "    </tr>\n",
              "    <tr>\n",
              "      <th>...</th>\n",
              "      <td>...</td>\n",
              "    </tr>\n",
              "    <tr>\n",
              "      <th>2021-03-30 23:56:00</th>\n",
              "      <td>0.950627</td>\n",
              "    </tr>\n",
              "    <tr>\n",
              "      <th>2021-03-30 23:57:00</th>\n",
              "      <td>0.950136</td>\n",
              "    </tr>\n",
              "    <tr>\n",
              "      <th>2021-03-30 23:58:00</th>\n",
              "      <td>0.950289</td>\n",
              "    </tr>\n",
              "    <tr>\n",
              "      <th>2021-03-30 23:59:00</th>\n",
              "      <td>0.951079</td>\n",
              "    </tr>\n",
              "    <tr>\n",
              "      <th>2021-03-31 00:00:00</th>\n",
              "      <td>0.951493</td>\n",
              "    </tr>\n",
              "  </tbody>\n",
              "</table>\n",
              "<p>3613769 rows × 1 columns</p>\n",
              "</div>"
            ],
            "text/plain": [
              "                     Open_scaled\n",
              "DateTime                        \n",
              "2011-12-31 07:52:00     0.000010\n",
              "2011-12-31 15:50:00     0.000010\n",
              "2011-12-31 16:59:00     0.000011\n",
              "2011-12-31 17:00:00     0.000013\n",
              "2012-01-01 04:16:00     0.000013\n",
              "...                          ...\n",
              "2021-03-30 23:56:00     0.950627\n",
              "2021-03-30 23:57:00     0.950136\n",
              "2021-03-30 23:58:00     0.950289\n",
              "2021-03-30 23:59:00     0.951079\n",
              "2021-03-31 00:00:00     0.951493\n",
              "\n",
              "[3613769 rows x 1 columns]"
            ]
          },
          "metadata": {},
          "execution_count": 15
        }
      ]
    },
    {
      "cell_type": "code",
      "metadata": {
        "id": "zcRz0uhakhED"
      },
      "source": [
        "time_series_df = time_df.resample('D').mean()\n"
      ],
      "execution_count": 16,
      "outputs": []
    },
    {
      "cell_type": "code",
      "metadata": {
        "colab": {
          "base_uri": "https://localhost:8080/",
          "height": 447
        },
        "id": "uE6LoSZ4oHiZ",
        "outputId": "8c9aae81-2c4b-4fd4-ac4c-d48acb58e8e5"
      },
      "source": [
        "time_series_df"
      ],
      "execution_count": 17,
      "outputs": [
        {
          "output_type": "execute_result",
          "data": {
            "text/html": [
              "<div>\n",
              "<style scoped>\n",
              "    .dataframe tbody tr th:only-of-type {\n",
              "        vertical-align: middle;\n",
              "    }\n",
              "\n",
              "    .dataframe tbody tr th {\n",
              "        vertical-align: top;\n",
              "    }\n",
              "\n",
              "    .dataframe thead th {\n",
              "        text-align: right;\n",
              "    }\n",
              "</style>\n",
              "<table border=\"1\" class=\"dataframe\">\n",
              "  <thead>\n",
              "    <tr style=\"text-align: right;\">\n",
              "      <th></th>\n",
              "      <th>Open_scaled</th>\n",
              "    </tr>\n",
              "    <tr>\n",
              "      <th>DateTime</th>\n",
              "      <th></th>\n",
              "    </tr>\n",
              "  </thead>\n",
              "  <tbody>\n",
              "    <tr>\n",
              "      <th>2011-12-31</th>\n",
              "      <td>0.000011</td>\n",
              "    </tr>\n",
              "    <tr>\n",
              "      <th>2012-01-01</th>\n",
              "      <td>0.000016</td>\n",
              "    </tr>\n",
              "    <tr>\n",
              "      <th>2012-01-02</th>\n",
              "      <td>0.000019</td>\n",
              "    </tr>\n",
              "    <tr>\n",
              "      <th>2012-01-03</th>\n",
              "      <td>0.000024</td>\n",
              "    </tr>\n",
              "    <tr>\n",
              "      <th>2012-01-04</th>\n",
              "      <td>0.000023</td>\n",
              "    </tr>\n",
              "    <tr>\n",
              "      <th>...</th>\n",
              "      <td>...</td>\n",
              "    </tr>\n",
              "    <tr>\n",
              "      <th>2021-03-27</th>\n",
              "      <td>0.893615</td>\n",
              "    </tr>\n",
              "    <tr>\n",
              "      <th>2021-03-28</th>\n",
              "      <td>0.903984</td>\n",
              "    </tr>\n",
              "    <tr>\n",
              "      <th>2021-03-29</th>\n",
              "      <td>0.921491</td>\n",
              "    </tr>\n",
              "    <tr>\n",
              "      <th>2021-03-30</th>\n",
              "      <td>0.944693</td>\n",
              "    </tr>\n",
              "    <tr>\n",
              "      <th>2021-03-31</th>\n",
              "      <td>0.951493</td>\n",
              "    </tr>\n",
              "  </tbody>\n",
              "</table>\n",
              "<p>3379 rows × 1 columns</p>\n",
              "</div>"
            ],
            "text/plain": [
              "            Open_scaled\n",
              "DateTime               \n",
              "2011-12-31     0.000011\n",
              "2012-01-01     0.000016\n",
              "2012-01-02     0.000019\n",
              "2012-01-03     0.000024\n",
              "2012-01-04     0.000023\n",
              "...                 ...\n",
              "2021-03-27     0.893615\n",
              "2021-03-28     0.903984\n",
              "2021-03-29     0.921491\n",
              "2021-03-30     0.944693\n",
              "2021-03-31     0.951493\n",
              "\n",
              "[3379 rows x 1 columns]"
            ]
          },
          "metadata": {},
          "execution_count": 17
        }
      ]
    },
    {
      "cell_type": "markdown",
      "metadata": {
        "id": "Qrw9u3CK-hZh"
      },
      "source": [
        "**Reset index & Drop Any Null Value**"
      ]
    },
    {
      "cell_type": "code",
      "metadata": {
        "id": "WgPWh3HrUzsl"
      },
      "source": [
        "time_series_df.reset_index(inplace=True)\n",
        "time_series_df.reset_index(inplace=True)\n",
        "time_df= time_series_df.dropna()\n",
        "\n"
      ],
      "execution_count": 18,
      "outputs": []
    },
    {
      "cell_type": "code",
      "metadata": {
        "colab": {
          "base_uri": "https://localhost:8080/",
          "height": 417
        },
        "id": "jjRz7mWCSO5S",
        "outputId": "2f827bfe-c2c8-4eaf-d407-62cb52128178"
      },
      "source": [
        "time_df"
      ],
      "execution_count": 19,
      "outputs": [
        {
          "output_type": "execute_result",
          "data": {
            "text/html": [
              "<div>\n",
              "<style scoped>\n",
              "    .dataframe tbody tr th:only-of-type {\n",
              "        vertical-align: middle;\n",
              "    }\n",
              "\n",
              "    .dataframe tbody tr th {\n",
              "        vertical-align: top;\n",
              "    }\n",
              "\n",
              "    .dataframe thead th {\n",
              "        text-align: right;\n",
              "    }\n",
              "</style>\n",
              "<table border=\"1\" class=\"dataframe\">\n",
              "  <thead>\n",
              "    <tr style=\"text-align: right;\">\n",
              "      <th></th>\n",
              "      <th>index</th>\n",
              "      <th>DateTime</th>\n",
              "      <th>Open_scaled</th>\n",
              "    </tr>\n",
              "  </thead>\n",
              "  <tbody>\n",
              "    <tr>\n",
              "      <th>0</th>\n",
              "      <td>0</td>\n",
              "      <td>2011-12-31</td>\n",
              "      <td>0.000011</td>\n",
              "    </tr>\n",
              "    <tr>\n",
              "      <th>1</th>\n",
              "      <td>1</td>\n",
              "      <td>2012-01-01</td>\n",
              "      <td>0.000016</td>\n",
              "    </tr>\n",
              "    <tr>\n",
              "      <th>2</th>\n",
              "      <td>2</td>\n",
              "      <td>2012-01-02</td>\n",
              "      <td>0.000019</td>\n",
              "    </tr>\n",
              "    <tr>\n",
              "      <th>3</th>\n",
              "      <td>3</td>\n",
              "      <td>2012-01-03</td>\n",
              "      <td>0.000024</td>\n",
              "    </tr>\n",
              "    <tr>\n",
              "      <th>4</th>\n",
              "      <td>4</td>\n",
              "      <td>2012-01-04</td>\n",
              "      <td>0.000023</td>\n",
              "    </tr>\n",
              "    <tr>\n",
              "      <th>...</th>\n",
              "      <td>...</td>\n",
              "      <td>...</td>\n",
              "      <td>...</td>\n",
              "    </tr>\n",
              "    <tr>\n",
              "      <th>3374</th>\n",
              "      <td>3374</td>\n",
              "      <td>2021-03-27</td>\n",
              "      <td>0.893615</td>\n",
              "    </tr>\n",
              "    <tr>\n",
              "      <th>3375</th>\n",
              "      <td>3375</td>\n",
              "      <td>2021-03-28</td>\n",
              "      <td>0.903984</td>\n",
              "    </tr>\n",
              "    <tr>\n",
              "      <th>3376</th>\n",
              "      <td>3376</td>\n",
              "      <td>2021-03-29</td>\n",
              "      <td>0.921491</td>\n",
              "    </tr>\n",
              "    <tr>\n",
              "      <th>3377</th>\n",
              "      <td>3377</td>\n",
              "      <td>2021-03-30</td>\n",
              "      <td>0.944693</td>\n",
              "    </tr>\n",
              "    <tr>\n",
              "      <th>3378</th>\n",
              "      <td>3378</td>\n",
              "      <td>2021-03-31</td>\n",
              "      <td>0.951493</td>\n",
              "    </tr>\n",
              "  </tbody>\n",
              "</table>\n",
              "<p>3376 rows × 3 columns</p>\n",
              "</div>"
            ],
            "text/plain": [
              "      index   DateTime  Open_scaled\n",
              "0         0 2011-12-31     0.000011\n",
              "1         1 2012-01-01     0.000016\n",
              "2         2 2012-01-02     0.000019\n",
              "3         3 2012-01-03     0.000024\n",
              "4         4 2012-01-04     0.000023\n",
              "...     ...        ...          ...\n",
              "3374   3374 2021-03-27     0.893615\n",
              "3375   3375 2021-03-28     0.903984\n",
              "3376   3376 2021-03-29     0.921491\n",
              "3377   3377 2021-03-30     0.944693\n",
              "3378   3378 2021-03-31     0.951493\n",
              "\n",
              "[3376 rows x 3 columns]"
            ]
          },
          "metadata": {},
          "execution_count": 19
        }
      ]
    },
    {
      "cell_type": "markdown",
      "metadata": {
        "id": "Mh5inHo2-2fO"
      },
      "source": [
        "**Select Scaled Open prices Column**"
      ]
    },
    {
      "cell_type": "code",
      "metadata": {
        "colab": {
          "base_uri": "https://localhost:8080/"
        },
        "id": "yNghK_HcAecF",
        "outputId": "0c12453b-4c26-43a8-a40a-c3b1aaf1fe49"
      },
      "source": [
        "X = time_df.iloc[:, 2].values\n",
        "X"
      ],
      "execution_count": 20,
      "outputs": [
        {
          "output_type": "execute_result",
          "data": {
            "text/plain": [
              "array([1.07675289e-05, 1.62997179e-05, 1.94301273e-05, ...,\n",
              "       9.21491382e-01, 9.44692881e-01, 9.51492525e-01])"
            ]
          },
          "metadata": {},
          "execution_count": 20
        }
      ]
    },
    {
      "cell_type": "markdown",
      "metadata": {
        "id": "WeQpRnsc_L76"
      },
      "source": [
        "**Split Data into Train and Test**"
      ]
    },
    {
      "cell_type": "code",
      "metadata": {
        "id": "kYwKtYwTBmD7"
      },
      "source": [
        "X_train, X_test = X[1:len(X)-31].reshape(-1, 1), X[len(X)-31:].reshape(-1, 1)"
      ],
      "execution_count": 21,
      "outputs": []
    },
    {
      "cell_type": "markdown",
      "metadata": {
        "id": "RiyGCnuh_aD5"
      },
      "source": [
        "**Create Autoregression Model**"
      ]
    },
    {
      "cell_type": "code",
      "metadata": {
        "id": "9e4L-qNgC_0_"
      },
      "source": [
        "autoreg_model = AutoReg(endog=X_train, lags=[24,31], trend='ct')"
      ],
      "execution_count": 22,
      "outputs": []
    },
    {
      "cell_type": "code",
      "metadata": {
        "id": "kmImjVAgIXHf"
      },
      "source": [
        "autoreg_model = autoreg_model.fit()"
      ],
      "execution_count": 23,
      "outputs": []
    },
    {
      "cell_type": "markdown",
      "metadata": {
        "id": "O-XXv9sx_r3v"
      },
      "source": [
        "**Make Predictions For next 31 Days**"
      ]
    },
    {
      "cell_type": "code",
      "metadata": {
        "id": "bqF4uGo6IoCq"
      },
      "source": [
        "predicted = autoreg_model.predict(start=len(X_train), end=(len(X_train)+len(X_test)-1))"
      ],
      "execution_count": 24,
      "outputs": []
    },
    {
      "cell_type": "code",
      "metadata": {
        "colab": {
          "base_uri": "https://localhost:8080/"
        },
        "id": "x_O5hCWWJr39",
        "outputId": "3e0a1037-a540-4470-e7ed-11ab6e7ae80c"
      },
      "source": [
        "predicted_price = sc.inverse_transform(predicted.reshape(-1, 1))\n",
        "predicted_price "
      ],
      "execution_count": 25,
      "outputs": [
        {
          "output_type": "execute_result",
          "data": {
            "text/plain": [
              "array([[43936.13090562],\n",
              "       [45737.41770376],\n",
              "       [44532.13436035],\n",
              "       [46949.76507464],\n",
              "       [52422.31819149],\n",
              "       [52080.24431731],\n",
              "       [52786.66234222],\n",
              "       [54072.82957929],\n",
              "       [54343.85480604],\n",
              "       [55303.43440826],\n",
              "       [55266.87122334],\n",
              "       [57666.23104222],\n",
              "       [59388.04113394],\n",
              "       [60443.9932016 ],\n",
              "       [61925.85409002],\n",
              "       [64858.33919179],\n",
              "       [65940.39710655],\n",
              "       [63536.19538571],\n",
              "       [58359.75152429],\n",
              "       [59697.05618417],\n",
              "       [60137.95925858],\n",
              "       [57301.95272194],\n",
              "       [58601.50341708],\n",
              "       [56617.5815244 ],\n",
              "       [55155.12120564],\n",
              "       [55326.52595888],\n",
              "       [54405.79704263],\n",
              "       [56746.26871975],\n",
              "       [61040.62935882],\n",
              "       [60842.44962177],\n",
              "       [60893.60886958]])"
            ]
          },
          "metadata": {},
          "execution_count": 25
        }
      ]
    },
    {
      "cell_type": "markdown",
      "metadata": {
        "id": "vRW-JAnZBHwd"
      },
      "source": [
        "**Get Actual Open Prices (Unscaled)**"
      ]
    },
    {
      "cell_type": "code",
      "metadata": {
        "colab": {
          "base_uri": "https://localhost:8080/",
          "height": 417
        },
        "id": "Et1BgZoAA1MR",
        "outputId": "832dcc40-143e-4d47-b0c8-6986e8a60a36"
      },
      "source": [
        "filter = df['DateTime'] > '2021-03-01'\n",
        "actual_price_test = df.loc[filter, :]\n",
        "actual_price_test"
      ],
      "execution_count": 26,
      "outputs": [
        {
          "output_type": "execute_result",
          "data": {
            "text/html": [
              "<div>\n",
              "<style scoped>\n",
              "    .dataframe tbody tr th:only-of-type {\n",
              "        vertical-align: middle;\n",
              "    }\n",
              "\n",
              "    .dataframe tbody tr th {\n",
              "        vertical-align: top;\n",
              "    }\n",
              "\n",
              "    .dataframe thead th {\n",
              "        text-align: right;\n",
              "    }\n",
              "</style>\n",
              "<table border=\"1\" class=\"dataframe\">\n",
              "  <thead>\n",
              "    <tr style=\"text-align: right;\">\n",
              "      <th></th>\n",
              "      <th>Timestamp</th>\n",
              "      <th>Open</th>\n",
              "      <th>DateTime</th>\n",
              "      <th>Open_scaled</th>\n",
              "    </tr>\n",
              "  </thead>\n",
              "  <tbody>\n",
              "    <tr>\n",
              "      <th>4814177</th>\n",
              "      <td>1614556860</td>\n",
              "      <td>45333.46</td>\n",
              "      <td>2021-03-01 00:01:00</td>\n",
              "      <td>0.733968</td>\n",
              "    </tr>\n",
              "    <tr>\n",
              "      <th>4814178</th>\n",
              "      <td>1614556920</td>\n",
              "      <td>45443.65</td>\n",
              "      <td>2021-03-01 00:02:00</td>\n",
              "      <td>0.735752</td>\n",
              "    </tr>\n",
              "    <tr>\n",
              "      <th>4814179</th>\n",
              "      <td>1614556980</td>\n",
              "      <td>45270.26</td>\n",
              "      <td>2021-03-01 00:03:00</td>\n",
              "      <td>0.732944</td>\n",
              "    </tr>\n",
              "    <tr>\n",
              "      <th>4814180</th>\n",
              "      <td>1614557040</td>\n",
              "      <td>45120.00</td>\n",
              "      <td>2021-03-01 00:04:00</td>\n",
              "      <td>0.730511</td>\n",
              "    </tr>\n",
              "    <tr>\n",
              "      <th>4814181</th>\n",
              "      <td>1614557100</td>\n",
              "      <td>45129.92</td>\n",
              "      <td>2021-03-01 00:05:00</td>\n",
              "      <td>0.730672</td>\n",
              "    </tr>\n",
              "    <tr>\n",
              "      <th>...</th>\n",
              "      <td>...</td>\n",
              "      <td>...</td>\n",
              "      <td>...</td>\n",
              "      <td>...</td>\n",
              "    </tr>\n",
              "    <tr>\n",
              "      <th>4857372</th>\n",
              "      <td>1617148560</td>\n",
              "      <td>58714.31</td>\n",
              "      <td>2021-03-30 23:56:00</td>\n",
              "      <td>0.950627</td>\n",
              "    </tr>\n",
              "    <tr>\n",
              "      <th>4857373</th>\n",
              "      <td>1617148620</td>\n",
              "      <td>58683.97</td>\n",
              "      <td>2021-03-30 23:57:00</td>\n",
              "      <td>0.950136</td>\n",
              "    </tr>\n",
              "    <tr>\n",
              "      <th>4857374</th>\n",
              "      <td>1617148680</td>\n",
              "      <td>58693.43</td>\n",
              "      <td>2021-03-30 23:58:00</td>\n",
              "      <td>0.950289</td>\n",
              "    </tr>\n",
              "    <tr>\n",
              "      <th>4857375</th>\n",
              "      <td>1617148740</td>\n",
              "      <td>58742.18</td>\n",
              "      <td>2021-03-30 23:59:00</td>\n",
              "      <td>0.951079</td>\n",
              "    </tr>\n",
              "    <tr>\n",
              "      <th>4857376</th>\n",
              "      <td>1617148800</td>\n",
              "      <td>58767.75</td>\n",
              "      <td>2021-03-31 00:00:00</td>\n",
              "      <td>0.951493</td>\n",
              "    </tr>\n",
              "  </tbody>\n",
              "</table>\n",
              "<p>43114 rows × 4 columns</p>\n",
              "</div>"
            ],
            "text/plain": [
              "          Timestamp      Open            DateTime  Open_scaled\n",
              "4814177  1614556860  45333.46 2021-03-01 00:01:00     0.733968\n",
              "4814178  1614556920  45443.65 2021-03-01 00:02:00     0.735752\n",
              "4814179  1614556980  45270.26 2021-03-01 00:03:00     0.732944\n",
              "4814180  1614557040  45120.00 2021-03-01 00:04:00     0.730511\n",
              "4814181  1614557100  45129.92 2021-03-01 00:05:00     0.730672\n",
              "...             ...       ...                 ...          ...\n",
              "4857372  1617148560  58714.31 2021-03-30 23:56:00     0.950627\n",
              "4857373  1617148620  58683.97 2021-03-30 23:57:00     0.950136\n",
              "4857374  1617148680  58693.43 2021-03-30 23:58:00     0.950289\n",
              "4857375  1617148740  58742.18 2021-03-30 23:59:00     0.951079\n",
              "4857376  1617148800  58767.75 2021-03-31 00:00:00     0.951493\n",
              "\n",
              "[43114 rows x 4 columns]"
            ]
          },
          "metadata": {},
          "execution_count": 26
        }
      ]
    },
    {
      "cell_type": "code",
      "metadata": {
        "id": "GboG7uRDIV4x"
      },
      "source": [
        "actual_price_test = actual_price_test.drop(columns=['Open_scaled','Timestamp'])"
      ],
      "execution_count": 27,
      "outputs": []
    },
    {
      "cell_type": "code",
      "metadata": {
        "colab": {
          "base_uri": "https://localhost:8080/",
          "height": 1000
        },
        "id": "sLM_3o1yIRd-",
        "outputId": "6bc0ca0d-ac7b-4bc1-9add-46e230d6274f"
      },
      "source": [
        "actual_price_test.set_index('DateTime', inplace=True)\n",
        "actual_price_df = actual_price_test.resample('D').mean()\n",
        "actual_price_df"
      ],
      "execution_count": 28,
      "outputs": [
        {
          "output_type": "execute_result",
          "data": {
            "text/html": [
              "<div>\n",
              "<style scoped>\n",
              "    .dataframe tbody tr th:only-of-type {\n",
              "        vertical-align: middle;\n",
              "    }\n",
              "\n",
              "    .dataframe tbody tr th {\n",
              "        vertical-align: top;\n",
              "    }\n",
              "\n",
              "    .dataframe thead th {\n",
              "        text-align: right;\n",
              "    }\n",
              "</style>\n",
              "<table border=\"1\" class=\"dataframe\">\n",
              "  <thead>\n",
              "    <tr style=\"text-align: right;\">\n",
              "      <th></th>\n",
              "      <th>Open</th>\n",
              "    </tr>\n",
              "    <tr>\n",
              "      <th>DateTime</th>\n",
              "      <th></th>\n",
              "    </tr>\n",
              "  </thead>\n",
              "  <tbody>\n",
              "    <tr>\n",
              "      <th>2021-03-01</th>\n",
              "      <td>47642.706335</td>\n",
              "    </tr>\n",
              "    <tr>\n",
              "      <th>2021-03-02</th>\n",
              "      <td>48621.235583</td>\n",
              "    </tr>\n",
              "    <tr>\n",
              "      <th>2021-03-03</th>\n",
              "      <td>50430.851676</td>\n",
              "    </tr>\n",
              "    <tr>\n",
              "      <th>2021-03-04</th>\n",
              "      <td>49402.170958</td>\n",
              "    </tr>\n",
              "    <tr>\n",
              "      <th>2021-03-05</th>\n",
              "      <td>47718.566826</td>\n",
              "    </tr>\n",
              "    <tr>\n",
              "      <th>2021-03-06</th>\n",
              "      <td>48372.653143</td>\n",
              "    </tr>\n",
              "    <tr>\n",
              "      <th>2021-03-07</th>\n",
              "      <td>50218.696692</td>\n",
              "    </tr>\n",
              "    <tr>\n",
              "      <th>2021-03-08</th>\n",
              "      <td>50798.361577</td>\n",
              "    </tr>\n",
              "    <tr>\n",
              "      <th>2021-03-09</th>\n",
              "      <td>53978.965319</td>\n",
              "    </tr>\n",
              "    <tr>\n",
              "      <th>2021-03-10</th>\n",
              "      <td>55376.622045</td>\n",
              "    </tr>\n",
              "    <tr>\n",
              "      <th>2021-03-11</th>\n",
              "      <td>56273.704177</td>\n",
              "    </tr>\n",
              "    <tr>\n",
              "      <th>2021-03-12</th>\n",
              "      <td>56828.883938</td>\n",
              "    </tr>\n",
              "    <tr>\n",
              "      <th>2021-03-13</th>\n",
              "      <td>58803.646437</td>\n",
              "    </tr>\n",
              "    <tr>\n",
              "      <th>2021-03-14</th>\n",
              "      <td>60458.339735</td>\n",
              "    </tr>\n",
              "    <tr>\n",
              "      <th>2021-03-15</th>\n",
              "      <td>57512.919367</td>\n",
              "    </tr>\n",
              "    <tr>\n",
              "      <th>2021-03-16</th>\n",
              "      <td>55342.874889</td>\n",
              "    </tr>\n",
              "    <tr>\n",
              "      <th>2021-03-17</th>\n",
              "      <td>56158.369972</td>\n",
              "    </tr>\n",
              "    <tr>\n",
              "      <th>2021-03-18</th>\n",
              "      <td>58475.268060</td>\n",
              "    </tr>\n",
              "    <tr>\n",
              "      <th>2021-03-19</th>\n",
              "      <td>58285.357964</td>\n",
              "    </tr>\n",
              "    <tr>\n",
              "      <th>2021-03-20</th>\n",
              "      <td>58781.201227</td>\n",
              "    </tr>\n",
              "    <tr>\n",
              "      <th>2021-03-21</th>\n",
              "      <td>57313.979179</td>\n",
              "    </tr>\n",
              "    <tr>\n",
              "      <th>2021-03-22</th>\n",
              "      <td>56789.786370</td>\n",
              "    </tr>\n",
              "    <tr>\n",
              "      <th>2021-03-23</th>\n",
              "      <td>54704.396340</td>\n",
              "    </tr>\n",
              "    <tr>\n",
              "      <th>2021-03-24</th>\n",
              "      <td>55126.661216</td>\n",
              "    </tr>\n",
              "    <tr>\n",
              "      <th>2021-03-25</th>\n",
              "      <td>52124.388145</td>\n",
              "    </tr>\n",
              "    <tr>\n",
              "      <th>2021-03-26</th>\n",
              "      <td>53240.386393</td>\n",
              "    </tr>\n",
              "    <tr>\n",
              "      <th>2021-03-27</th>\n",
              "      <td>55193.240643</td>\n",
              "    </tr>\n",
              "    <tr>\n",
              "      <th>2021-03-28</th>\n",
              "      <td>55833.608471</td>\n",
              "    </tr>\n",
              "    <tr>\n",
              "      <th>2021-03-29</th>\n",
              "      <td>56914.886595</td>\n",
              "    </tr>\n",
              "    <tr>\n",
              "      <th>2021-03-30</th>\n",
              "      <td>58347.805624</td>\n",
              "    </tr>\n",
              "    <tr>\n",
              "      <th>2021-03-31</th>\n",
              "      <td>58767.750000</td>\n",
              "    </tr>\n",
              "  </tbody>\n",
              "</table>\n",
              "</div>"
            ],
            "text/plain": [
              "                    Open\n",
              "DateTime                \n",
              "2021-03-01  47642.706335\n",
              "2021-03-02  48621.235583\n",
              "2021-03-03  50430.851676\n",
              "2021-03-04  49402.170958\n",
              "2021-03-05  47718.566826\n",
              "2021-03-06  48372.653143\n",
              "2021-03-07  50218.696692\n",
              "2021-03-08  50798.361577\n",
              "2021-03-09  53978.965319\n",
              "2021-03-10  55376.622045\n",
              "2021-03-11  56273.704177\n",
              "2021-03-12  56828.883938\n",
              "2021-03-13  58803.646437\n",
              "2021-03-14  60458.339735\n",
              "2021-03-15  57512.919367\n",
              "2021-03-16  55342.874889\n",
              "2021-03-17  56158.369972\n",
              "2021-03-18  58475.268060\n",
              "2021-03-19  58285.357964\n",
              "2021-03-20  58781.201227\n",
              "2021-03-21  57313.979179\n",
              "2021-03-22  56789.786370\n",
              "2021-03-23  54704.396340\n",
              "2021-03-24  55126.661216\n",
              "2021-03-25  52124.388145\n",
              "2021-03-26  53240.386393\n",
              "2021-03-27  55193.240643\n",
              "2021-03-28  55833.608471\n",
              "2021-03-29  56914.886595\n",
              "2021-03-30  58347.805624\n",
              "2021-03-31  58767.750000"
            ]
          },
          "metadata": {},
          "execution_count": 28
        }
      ]
    },
    {
      "cell_type": "code",
      "metadata": {
        "id": "MYFetnGt7n8-",
        "colab": {
          "base_uri": "https://localhost:8080/"
        },
        "outputId": "b0c74a47-f791-4208-b5f2-d2836c7770f2"
      },
      "source": [
        "actual_price_values = actual_price_df['Open'].values\n",
        "actual_price_values\n"
      ],
      "execution_count": 29,
      "outputs": [
        {
          "output_type": "execute_result",
          "data": {
            "text/plain": [
              "array([47642.70633519, 48621.23558333, 50430.85167594, 49402.17095833,\n",
              "       47718.56682639, 48372.65314286, 50218.69669231, 50798.36157748,\n",
              "       53978.96531944, 55376.62204451, 56273.70417651, 56828.8839375 ,\n",
              "       58803.64643654, 60458.33973519, 57512.91936718, 55342.87488889,\n",
              "       56158.3699722 , 58475.26805981, 58285.35796386, 58781.20122734,\n",
              "       57313.97917942, 56789.78636996, 54704.39634028, 55126.66121593,\n",
              "       52124.38814454, 53240.38639333, 55193.24064291, 55833.60847067,\n",
              "       56914.88659471, 58347.80562369, 58767.75      ])"
            ]
          },
          "metadata": {},
          "execution_count": 29
        }
      ]
    },
    {
      "cell_type": "markdown",
      "metadata": {
        "id": "9bzTkxcPBS6X"
      },
      "source": [
        "**Visualize Predicted & Actual Prices for Jan. 2021**"
      ]
    },
    {
      "cell_type": "code",
      "metadata": {
        "colab": {
          "base_uri": "https://localhost:8080/",
          "height": 295
        },
        "id": "FIj-EvWXjSl5",
        "outputId": "2cc12af2-c34e-47db-c3c2-877f78e115e6"
      },
      "source": [
        "plt.plot(actual_price_values, color='red', label=\"Actual Bitcoin price\", ls='--')\n",
        "plt.plot(predicted_price, color='blue', label=\"Predicted Bitcoin price\", ls='--')\n",
        "plt.title('Predicted Bitcoin Price for March 2021')\n",
        "plt.xlabel('Time in Days of March')\n",
        "plt.ylabel('Price')\n",
        "plt.legend()\n",
        "plt.show()"
      ],
      "execution_count": 30,
      "outputs": [
        {
          "output_type": "display_data",
          "data": {
            "image/png": "[encoded data removed]",
            "text/plain": [
              "<Figure size 432x288 with 1 Axes>"
            ]
          },
          "metadata": {
            "needs_background": "light"
          }
        }
      ]
    },
    {
      "cell_type": "markdown",
      "metadata": {
        "id": "XQX9I3RpBxh3"
      },
      "source": [
        "**Evaluate Model: Root Mean Square Error**"
      ]
    },
    {
      "cell_type": "code",
      "metadata": {
        "id": "bAR3xjWhUNnm",
        "colab": {
          "base_uri": "https://localhost:8080/"
        },
        "outputId": "3bc29626-7925-4d49-b320-74ed52e1c26c"
      },
      "source": [
        "\n",
        "rmse = sqrt(mean_squared_error(actual_price_values, predicted_price))\n",
        "print(f'The RMSE is {rmse: .2f}')"
      ],
      "execution_count": 31,
      "outputs": [
        {
          "output_type": "stream",
          "name": "stdout",
          "text": [
            "The RMSE is  3675.61\n"
          ]
        }
      ]
    }
  ]
}